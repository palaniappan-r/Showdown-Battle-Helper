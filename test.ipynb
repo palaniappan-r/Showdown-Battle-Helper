{
 "cells": [
  {
   "cell_type": "code",
   "execution_count": 9,
   "metadata": {},
   "outputs": [
    {
     "name": "stdout",
     "output_type": "stream",
     "text": [
      "\u001b[H\u001b[2J"
     ]
    }
   ],
   "source": [
    "from selenium import webdriver\n",
    "from selenium.webdriver.common.keys import Keys\n",
    "from selenium.webdriver.common.by import By\n",
    "\n",
    "from selenium.webdriver.support.ui import WebDriverWait\n",
    "from selenium.webdriver.support import expected_conditions as EC\n",
    "\n",
    "import functions\n",
    "\n",
    "import os\n",
    "import time\n",
    "import sys\n",
    "\n",
    "os.system('clear')\n",
    "\n",
    "err_count = 0\n",
    "\n",
    "def get_turn():\n",
    "    try:\n",
    "        turn = driver.find_element(By.XPATH,\"/html/body/div[4]/div[1]/div/div[10]/div\").text \n",
    "        return turn\n",
    "    except Exception as e:\n",
    "        print(f\"\\nERROR : {e} (Program will be suspended for 5 seconds and then continue) \\n\\n\")\n",
    "        time.sleep(5)\n",
    "        err_count = 1\n",
    "        if(err_count == 10):\n",
    "            print(\"Too many errors. Program terminated.\")\n",
    "            sys.exit(0)\n",
    "        get_turn()\n",
    "        \n",
    "def checkIfEnded():\n",
    "    try:\n",
    "        driver.find_element(By.XPATH,\"/html/body/div[4]/div[5]/div/p[2]/button[2]\").text\n",
    "        return True\n",
    "    except:\n",
    "        return False\n",
    "\n",
    "\n",
    "def printTurn():\n",
    "    active_mons = driver.find_element(By.XPATH,\"/html/body/div[4]/div[1]/div/div[6]/div[1]\").text\n",
    "    print()\n",
    "    active_mons = driver.find_element(By.XPATH,\"/html/body/div[4]/div[1]/div/div[6]/div[2]\")/text\n",
    "    temp = active_mons.split()\n",
    "    return temp\n",
    "\n",
    "driver = webdriver.Chrome(\"chromedriver\")\n",
    "\n",
    "driver.get(\"https://play.pokemonshowdown.com/\")\n",
    "\n"
   ]
  },
  {
   "cell_type": "code",
   "execution_count": 23,
   "metadata": {},
   "outputs": [
    {
     "ename": "TypeError",
     "evalue": "printData() missing 2 required positional arguments: 'mon_name' and 'mon2_name'",
     "output_type": "error",
     "traceback": [
      "\u001b[0;31m---------------------------------------------------------------------------\u001b[0m",
      "\u001b[0;31mTypeError\u001b[0m                                 Traceback (most recent call last)",
      "\u001b[1;32m/Users/palaniappan_r/Projects/Showdown-Battle-Helper/test.ipynb Cell 2\u001b[0m in \u001b[0;36m<cell line: 1>\u001b[0;34m()\u001b[0m\n\u001b[0;32m----> <a href='vscode-notebook-cell:/Users/palaniappan_r/Projects/Showdown-Battle-Helper/test.ipynb#W1sZmlsZQ%3D%3D?line=0'>1</a>\u001b[0m functions\u001b[39m.\u001b[39;49mprintData()\n",
      "\u001b[0;31mTypeError\u001b[0m: printData() missing 2 required positional arguments: 'mon_name' and 'mon2_name'"
     ]
    }
   ],
   "source": [
    "scripy.printData()"
   ]
  },
  {
   "cell_type": "code",
   "execution_count": null,
   "metadata": {},
   "outputs": [],
   "source": []
  }
 ],
 "metadata": {
  "kernelspec": {
   "display_name": "Python 3.10.4 ('Showdown')",
   "language": "python",
   "name": "python3"
  },
  "language_info": {
   "codemirror_mode": {
    "name": "ipython",
    "version": 3
   },
   "file_extension": ".py",
   "mimetype": "text/x-python",
   "name": "python",
   "nbconvert_exporter": "python",
   "pygments_lexer": "ipython3",
   "version": "3.10.4"
  },
  "orig_nbformat": 4,
  "vscode": {
   "interpreter": {
    "hash": "f9143a2125a884e359144fd30a6a83217f210721a1d6b882298ca00c1c10c5f0"
   }
  }
 },
 "nbformat": 4,
 "nbformat_minor": 2
}
