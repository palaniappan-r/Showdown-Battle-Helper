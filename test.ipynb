{
 "cells": [
  {
   "cell_type": "code",
   "execution_count": 2,
   "metadata": {},
   "outputs": [
    {
     "name": "stdout",
     "output_type": "stream",
     "text": [
      "\u001b[H\u001b[2J"
     ]
    }
   ],
   "source": [
    "from selenium import webdriver\n",
    "from selenium.webdriver.common.keys import Keys\n",
    "from selenium.webdriver.common.by import By\n",
    "\n",
    "from selenium.webdriver.support.ui import WebDriverWait\n",
    "from selenium.webdriver.support import expected_conditions as EC\n",
    "\n",
    "import functions\n",
    "\n",
    "import os\n",
    "import time\n",
    "import sys\n",
    "\n",
    "os.system('clear')\n",
    "\n",
    "err_count = 0\n",
    "\n",
    "def get_turn():\n",
    "    try:\n",
    "        turn = driver.find_element(By.XPATH,\"/html/body/div[4]/div[1]/div/div[10]/div\").text \n",
    "        return turn\n",
    "    except Exception as e:\n",
    "        print(f\"ERROR : {e} (Program will be suspended for 5 seconds and then continue) \\n\\n\")\n",
    "        time.sleep(5)\n",
    "        err_count = 1\n",
    "        if(err_count == 10):\n",
    "            print(\"Too many errors. Program terminated.\")\n",
    "            sys.exit(0)\n",
    "        get_turn()\n",
    "        \n",
    "def checkIfEnded():\n",
    "    try:\n",
    "        driver.find_element(By.XPATH,\"/html/body/div[4]/div[5]/div/p[2]/button[2]\").text\n",
    "        return True\n",
    "    except:\n",
    "        return False\n",
    "\n",
    "\n",
    "def printTurn():\n",
    "    active_mons = driver.find_element(By.XPATH,\"/html/body/div[5]/div[1]/div/div[6]\").text\n",
    "    print()\n",
    "    temp = active_mons.split()\n",
    "    return temp\n",
    "\n",
    "driver = webdriver.Chrome(\"chromedriver\")\n",
    "\n",
    "driver.get(\"https://play.pokemonshowdown.com/\")\n",
    "\n"
   ]
  },
  {
   "cell_type": "code",
   "execution_count": 5,
   "metadata": {},
   "outputs": [
    {
     "name": "stdout",
     "output_type": "stream",
     "text": [
      "\n",
      "\u001b[1m\u001b[94mKingler Lv 84\u001b[0m\u001b[0m\tAbilities : \u001b[96mSheer Force\u001b[0m\n",
      "Items : \u001b[95mLife Orb\u001b[0m\n",
      "\u001b[93mAgility\u001b[0m -> Status\n",
      "\u001b[93mLiquidation\u001b[0m -> 1\n",
      "\u001b[93mRock Slide\u001b[0m -> 1\n",
      "\u001b[92m\u001b[1mSuperpower\u001b[0m\u001b[0m -> 2\n",
      "\u001b[93mSwords Dance\u001b[0m -> Status\n",
      "\u001b[92m\u001b[1mX-Scissor\u001b[0m\u001b[0m -> 2\n",
      "\n",
      "\u001b[1m\u001b[94mUmbreon Lv 82\u001b[0m\u001b[0m\tAbilities : \u001b[96mSynchronize\u001b[0m\n",
      "Items : \u001b[95mLeftovers\u001b[0m\n",
      "\u001b[93mFoul Play\u001b[0m -> 1\n",
      "\u001b[93mProtect\u001b[0m -> Status\n",
      "\u001b[93mToxic\u001b[0m -> Status\n",
      "\u001b[93mWish\u001b[0m -> Status\n",
      "['Kingler', 'L84', '100%', 'Umbreon', 'L82', '100%']\n"
     ]
    },
    {
     "data": {
      "text/plain": [
       "'Turn 1'"
      ]
     },
     "execution_count": 5,
     "metadata": {},
     "output_type": "execute_result"
    }
   ],
   "source": [
    "print(printTurn())\n",
    "turn = driver.find_element(By.XPATH,\"/html/body/div[5]/div[1]/div/div[10]/div\").text \n",
    "turn"
   ]
  },
  {
   "cell_type": "code",
   "execution_count": null,
   "metadata": {},
   "outputs": [],
   "source": []
  }
 ],
 "metadata": {
  "kernelspec": {
   "display_name": "Python 3.10.4 ('Showdown')",
   "language": "python",
   "name": "python3"
  },
  "language_info": {
   "codemirror_mode": {
    "name": "ipython",
    "version": 3
   },
   "file_extension": ".py",
   "mimetype": "text/x-python",
   "name": "python",
   "nbconvert_exporter": "python",
   "pygments_lexer": "ipython3",
   "version": "3.10.4"
  },
  "orig_nbformat": 4,
  "vscode": {
   "interpreter": {
    "hash": "f9143a2125a884e359144fd30a6a83217f210721a1d6b882298ca00c1c10c5f0"
   }
  }
 },
 "nbformat": 4,
 "nbformat_minor": 2
}
